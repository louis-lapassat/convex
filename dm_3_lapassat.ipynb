{
 "cells": [
  {
   "cell_type": "code",
   "execution_count": 1,
   "metadata": {},
   "outputs": [],
   "source": [
    "import numpy as np"
   ]
  },
  {
   "cell_type": "code",
   "execution_count": 2,
   "metadata": {},
   "outputs": [],
   "source": [
    "def is_pos_def(x):\n",
    "    return np.all(np.linalg.eigvals(x) >= 0)\n",
    "\n",
    "# set dimension\n",
    "n = 10\n",
    "d = 2\n",
    "\n",
    "# set lambda\n",
    "lamb = 10\n",
    "\n",
    "start = True\n",
    "while start:\n",
    "    # generate random X\n",
    "    X = 0.5 * np.random.rand(n, d)\n",
    "    X[:, 1] = 3.14 * X[:, 1] + np.sqrt(2)\n",
    "    \n",
    "    # compute Q\n",
    "    Q = 0.5 * np.linalg.inv(X.T.dot(X))\n",
    "\n",
    "    # test if Q is >= 0\n",
    "    start = ~is_pos_def(Q)\n",
    "    \n",
    "# generate random y\n",
    "y = np.random.binomial(1, 0.5, (n, 1))\n",
    "\n",
    "# compute p, A and b\n",
    "p = - np.linalg.inv(X.T.dot(X)).dot(X.T.dot(y))\n",
    "A = np.concatenate([np.eye(d), -np.eye(d)], axis=0)\n",
    "b = lamb * np.ones((2 * d, 1))\n",
    "\n",
    "# possible starting point\n",
    "v0 = (lamb / 2) * np.ones((d, 1))"
   ]
  },
  {
   "cell_type": "code",
   "execution_count": 3,
   "metadata": {},
   "outputs": [],
   "source": [
    "def f(Q, p, A, b, x):\n",
    "    phi = 0\n",
    "    for i in range(np.shape(A)[0]):\n",
    "        if float(b[i, 0] - A[i, :].dot(x)) > 0:\n",
    "            phi -= np.log(float(b[i, 0] - A[i, :].dot(x)))\n",
    "        else:\n",
    "            return np.inf\n",
    "    return float(x.T.dot(Q.dot(x))) + float(p.T.dot(x)) + phi\n",
    "\n",
    "def grad_f(Q, p, A, b, x):\n",
    "    phi = np.zeros_like(A[0, :])\n",
    "    for i in range(np.shape(A)[0]):\n",
    "        phi += (1 / float(b[i, 0] - A[i, :].dot(x))) * A[i, :].T\n",
    "    return (Q.T + Q).dot(x) + p + phi.reshape(len(phi), 1)\n",
    "        \n",
    "def hess_f(Q, A, b, x):\n",
    "    phi = np.zeros_like(np.outer(A[0, :], A[0, :]))\n",
    "    for i in range(np.shape(A)[0]):\n",
    "        phi +=  (1 / float(A[i, :].dot(x) - b[i, 0]) ** 2) * np.outer(A[i, :], A[i, :])\n",
    "    return Q + Q.T + phi"
   ]
  },
  {
   "cell_type": "code",
   "execution_count": 138,
   "metadata": {},
   "outputs": [],
   "source": [
    "# Le probleme c'est que float(grad_f.T.dot(delta)) > 0 alors que delta est une descente donc ca devrait etre\n",
    "# < 0 !!!!!!"
   ]
  },
  {
   "cell_type": "code",
   "execution_count": 23,
   "metadata": {},
   "outputs": [],
   "source": [
    "def backtracking_line_search(Q, p, A, b, x, delta, grad_f):\n",
    "    alpha, beta, t, k = 0.1, 0.8, 1, 0\n",
    "    while f(Q, p, A, b, x + t * delta) >= f(Q, p, A, b, x) + alpha * t * float(grad_f.T.dot(delta)) + 1e-10 and k < 1e10:\n",
    "        t *= beta\n",
    "        k += 1\n",
    "        #print(float(grad_f.T.dot(delta)))\n",
    "        #print(f(Q, p, A, b, x + t * delta), f(Q, p, A, b, x) + alpha * t * float(grad_f.T.dot(delta)))\n",
    "    return t\n",
    "\n",
    "def centeringstep(Q, p, A, b, t, v0, eps):\n",
    "    v_seq = [v0]\n",
    "    decrement = 1e5\n",
    "    while decrement / 2 > eps:\n",
    "        grad = grad_f(t * Q, t * p, A, b, v_seq[-1])\n",
    "        delta = - np.linalg.inv(hess_f(t * Q, A, b, v_seq[-1])).dot(grad) # newton step\n",
    "        #print(grad.T.dot(- np.linalg.inv(hess_f(t * Q, A, b, v_seq[-1])).dot(grad)))\n",
    "        decrement = grad.T.dot(- delta) # decrement\n",
    "        gamma = backtracking_line_search(Q, p, A, b, v_seq[-1], delta, grad) # backtrackling line search\n",
    "        v_seq.append(v_seq[-1] + gamma * delta)\n",
    "        #print(decrement / 2 > eps)\n",
    "    #print(gamma)\n",
    "    return v_seq\n",
    "    \n",
    "def barrmethod(Q, p, A, b, v0, eps):\n",
    "    m, v_seq = np.shape(A)[0], [v0]\n",
    "    t, mu = 1, 10\n",
    "    while m / t >= eps:\n",
    "        v_seq.append(centeringstep(Q, p, A, b, t, v_seq[-1], eps)[-1]) # minimize t * f_0 + phi and update v_seq (x_star)\n",
    "        t *= mu\n",
    "        #print( m / t)\n",
    "    return v_seq"
   ]
  },
  {
   "cell_type": "code",
   "execution_count": null,
   "metadata": {},
   "outputs": [],
   "source": [
    "v_seq = barrmethod(Q, p, A, b, v0, 1e-6)\n",
    "v_seq[-1]"
   ]
  },
  {
   "cell_type": "code",
   "execution_count": 125,
   "metadata": {},
   "outputs": [
    {
     "name": "stdout",
     "output_type": "stream",
     "text": [
      "[0.         0.00352388]\n"
     ]
    }
   ],
   "source": [
    "from sklearn import linear_model\n",
    "\n",
    "clf = linear_model.Lasso(alpha=lamb, fit_intercept=False)\n",
    "clf.fit(X, y)\n",
    "\n",
    "print(clf.coef_)"
   ]
  },
  {
   "cell_type": "code",
   "execution_count": 155,
   "metadata": {},
   "outputs": [
    {
     "data": {
      "text/plain": [
       "array([[-0.30613   ],\n",
       "       [-0.00516604]])"
      ]
     },
     "execution_count": 155,
     "metadata": {},
     "output_type": "execute_result"
    }
   ],
   "source": [
    "grad_f(Q, p, A, b, np.array([[0], [0.00352388]]))"
   ]
  },
  {
   "cell_type": "code",
   "execution_count": null,
   "metadata": {},
   "outputs": [],
   "source": []
  },
  {
   "cell_type": "code",
   "execution_count": null,
   "metadata": {},
   "outputs": [],
   "source": []
  },
  {
   "cell_type": "code",
   "execution_count": null,
   "metadata": {},
   "outputs": [],
   "source": []
  },
  {
   "cell_type": "code",
   "execution_count": null,
   "metadata": {},
   "outputs": [],
   "source": []
  },
  {
   "cell_type": "code",
   "execution_count": 115,
   "metadata": {},
   "outputs": [],
   "source": [
    "def phi(A, b, x):\n",
    "    if (b - A.dot(x) > 0).all():\n",
    "        return - np.log(b - A.dot(x)).sum() # phi(x) = - sum log(-f_i(x))\n",
    "    else:\n",
    "        return np.inf\n",
    "#         print(x)\n",
    "#         raise Exception('problem in log') \n",
    "\n",
    "def grad_phi(A, b, x):\n",
    "    res = np.zeros_like(A[0, :])\n",
    "    for i in range(np.shape(A)[0]):\n",
    "          res += - (1 / (A[i, :].dot(x) - b[i])) * A[i, :].T\n",
    "    return np.reshape(res, (np.shape(A)[1], 1))\n",
    "\n",
    "def hess_phi(A, b, x):\n",
    "    res = np.zeros((np.shape(A)[1], np.shape(A)[1]))\n",
    "    for i in range(np.shape(A)[0]):\n",
    "          res +=  ((1 / (A[i, :].dot(x) - b[i])) ** 2) * np.outer(A[i, :], A[i, :])\n",
    "    return res\n",
    "\n",
    "def f(Q, p, A, b, x):\n",
    "    return x.T.dot(Q.dot(x)) + p.T.dot(x) + phi(A, b, x)\n",
    "    \n",
    "def grad(Q, p, A, b, x):\n",
    "    return (Q.T + Q).dot(x) + p + grad_phi(A, b, x)\n",
    "    \n",
    "def hess(Q, p, A, b, x):\n",
    "    return Q.T + Q + hess_phi(A, b, x)\n",
    "\n",
    "def backtracking_line_search(Q, p, A, b, x, delta_x):\n",
    "    alpha, beta, step, k = 0.1, 0.99, 1, 0\n",
    "    while f(Q, p, A, b, x + step * delta_x) >= f(Q, p, A, b, x) + alpha * step * grad(Q, p, A, b, x).T.dot(delta_x) and k < 1e10:\n",
    "        step *= beta\n",
    "        k += 1\n",
    "    return step # if k < 1e10 else 1\n",
    "    \n",
    "# def newton(Q, p, A, b, x):\n",
    "#     k, max_iter = 0, 10000\n",
    "#     while np.linalg.norm(grad(Q, p, A, b, x), ord=2) > 1e-6 and k < max_iter:\n",
    "#         #print(np.linalg.norm(grad(Q, p, A, b, x), ord=2))\n",
    "#         delta_x = - np.linalg.inv(hess(Q, p, A, b, x)).dot(grad(Q, p, A, b, x))\n",
    "#         step_size = 1 #backtracking_line_search(Q, p, A, b, x, delta_x)\n",
    "#         x += step_size * delta_x\n",
    "#         k += 1\n",
    "#     return x\n",
    "\n",
    "# def barrier(Q, p, A, b, t, v0, eps):\n",
    "#     m = np.shape(A)[0]\n",
    "#     v = [v0]\n",
    "#     mu = 20 \n",
    "#     k, max_iter = 0, 1e10\n",
    "#     while k < max_iter:\n",
    "#         v.append(newton(t * Q, t * p, A, b, v[-1])) # minimize t * f_0 + phi and update v\n",
    "#         if m / t < eps: # stopping criterion \n",
    "#             return v\n",
    "#         t *= mu # increase t\n",
    "#         k += 1 # increase k\n",
    "#         print(k)"
   ]
  },
  {
   "cell_type": "code",
   "execution_count": 111,
   "metadata": {},
   "outputs": [
    {
     "ename": "NameError",
     "evalue": "name 'barrier' is not defined",
     "output_type": "error",
     "traceback": [
      "\u001b[1;31m---------------------------------------------------------------------------\u001b[0m",
      "\u001b[1;31mNameError\u001b[0m                                 Traceback (most recent call last)",
      "\u001b[1;32m<ipython-input-111-6fcd1820b405>\u001b[0m in \u001b[0;36m<module>\u001b[1;34m\u001b[0m\n\u001b[1;32m----> 1\u001b[1;33m \u001b[0mv\u001b[0m \u001b[1;33m=\u001b[0m \u001b[0mbarrier\u001b[0m\u001b[1;33m(\u001b[0m\u001b[0mQ\u001b[0m\u001b[1;33m,\u001b[0m \u001b[0mp\u001b[0m\u001b[1;33m,\u001b[0m \u001b[0mA\u001b[0m\u001b[1;33m,\u001b[0m \u001b[0mb\u001b[0m\u001b[1;33m,\u001b[0m \u001b[1;36m1\u001b[0m\u001b[1;33m,\u001b[0m \u001b[0mv0\u001b[0m\u001b[1;33m,\u001b[0m \u001b[1;36m1e-5\u001b[0m\u001b[1;33m)\u001b[0m\u001b[1;33m\u001b[0m\u001b[1;33m\u001b[0m\u001b[0m\n\u001b[0m",
      "\u001b[1;31mNameError\u001b[0m: name 'barrier' is not defined"
     ]
    }
   ],
   "source": [
    "v = barrier(Q, p, A, b, 1, v0, 1e-5)"
   ]
  },
  {
   "cell_type": "code",
   "execution_count": null,
   "metadata": {},
   "outputs": [],
   "source": [
    "v[-1]"
   ]
  },
  {
   "cell_type": "code",
   "execution_count": null,
   "metadata": {},
   "outputs": [],
   "source": [
    "from sklearn import linear_model\n",
    "\n",
    "clf = linear_model.Lasso(alpha=lamb, fit_intercept=False)\n",
    "clf.fit(X, y)\n",
    "\n",
    "print(clf.coef_)"
   ]
  }
 ],
 "metadata": {
  "kernelspec": {
   "display_name": "Python 3",
   "language": "python",
   "name": "python3"
  },
  "language_info": {
   "codemirror_mode": {
    "name": "ipython",
    "version": 3
   },
   "file_extension": ".py",
   "mimetype": "text/x-python",
   "name": "python",
   "nbconvert_exporter": "python",
   "pygments_lexer": "ipython3",
   "version": "3.7.1"
  },
  "widgets": {
   "application/vnd.jupyter.widget-state+json": {
    "state": {},
    "version_major": 2,
    "version_minor": 0
   }
  }
 },
 "nbformat": 4,
 "nbformat_minor": 2
}
