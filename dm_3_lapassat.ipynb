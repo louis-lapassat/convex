{
 "cells": [
  {
   "cell_type": "code",
   "execution_count": 8,
   "metadata": {},
   "outputs": [],
   "source": [
    "import numpy as np"
   ]
  },
  {
   "cell_type": "code",
   "execution_count": 35,
   "metadata": {},
   "outputs": [],
   "source": [
    "# set dimension\n",
    "n = 2\n",
    "d = 3\n",
    "\n",
    "# set lambda\n",
    "lamb = 10\n",
    "\n",
    "# generate random X and y\n",
    "X = np.random.randn(n, d) + 40\n",
    "y = np.random.binomial(1, 0.5, (n, 1))\n",
    "\n",
    "# compute Q, p, A and b\n",
    "Q = - 0.5 * np.linalg.inv(X.T.dot(X))\n",
    "p = - np.linalg.inv(X.T.dot(X)).dot(X.T.dot(y))\n",
    "A = np.concatenate([np.eye(d), -np.eye(d)], axis=0)\n",
    "b = lamb * np.ones((2 * d, 1))\n",
    "\n",
    "# possible starting point\n",
    "v0 = (lamb / 2) * np.ones((d, 1))"
   ]
  },
  {
   "cell_type": "code",
   "execution_count": 10,
   "metadata": {},
   "outputs": [],
   "source": [
    "x = np.random.randn(d, 1)"
   ]
  },
  {
   "cell_type": "code",
   "execution_count": 11,
   "metadata": {},
   "outputs": [],
   "source": [
    "# xx_1 = grad_f(Q, p, A, b, x)\n",
    "# xx_2 = hess_f(Q, A, b, x)"
   ]
  },
  {
   "cell_type": "code",
   "execution_count": 79,
   "metadata": {},
   "outputs": [],
   "source": [
    "def f(Q, p, A, b, x):\n",
    "    phi = 0\n",
    "    for i in range(np.shape(A)[0]):\n",
    "        if - float(A[i, :].dot(x) - b[i, 0]) > 0:\n",
    "            phi -= np.log(- float(A[i, :].dot(x) - b[i, 0]))\n",
    "        else:\n",
    "            return np.inf\n",
    "    return float(x.T.dot(Q.dot(x))) + float(p.T.dot(x)) + phi\n",
    "\n",
    "def grad_f(Q, p, A, b, x):\n",
    "    phi = np.zeros_like(A[0, :])\n",
    "    for i in range(np.shape(A)[0]):\n",
    "        phi += - (1 / (A[i, :].dot(x) - b[i, 0])) * A[i, :].T\n",
    "    return (Q.T + Q).dot(x) + p + phi.reshape(len(phi), 1)\n",
    "        \n",
    "def hess_f(Q, A, b, x):\n",
    "    phi = np.zeros_like(np.outer(A[0, :], A[0, :]))\n",
    "    for i in range(np.shape(A)[0]):\n",
    "        phi +=  (1 / (A[i, :].dot(x) - b[i, 0]) ** 2) * np.outer(A[i, :], A[i, :])\n",
    "    return Q + Q.T + phi"
   ]
  },
  {
   "cell_type": "code",
   "execution_count": 84,
   "metadata": {},
   "outputs": [],
   "source": [
    "def backtracking_line_search(Q, p, A, b, x, delta, grad_f):\n",
    "    alpha, beta, t, k = 0.1, 0.9, 1, 0\n",
    "    while f(Q, p, A, b, x + t * delta) >= f(Q, p, A, b, x) + alpha * t * float(grad_f.T.dot(delta)) and k < 1e10:\n",
    "        t *= beta\n",
    "        k += 1\n",
    "        #print(f(Q, p, A, b, x + t * delta), f(Q, p, A, b, x) + alpha * t * float(grad_f.T.dot(delta)))\n",
    "    return t\n",
    "\n",
    "def centeringstep(Q, p, A, b, t, v0, eps):\n",
    "    v_seq = [v0]\n",
    "    decrement = 1e5\n",
    "    while decrement / 2 > eps:\n",
    "        grad = grad_f(t * Q, t * p, A, b, v_seq[-1])\n",
    "        delta = - np.linalg.inv(hess_f(t * Q, A, b, v_seq[-1])).dot(grad) # newton step\n",
    "        decrement = grad.T.dot(- delta) # decrement\n",
    "        gamma = backtracking_line_search(Q, p, A, b, v_seq[-1], delta, grad) # backtrackling line search\n",
    "        v_seq.append(v_seq[-1] + gamma * delta)\n",
    "    print(gamma)\n",
    "    return v_seq\n",
    "    \n",
    "def barrmethod(Q, p, A, b, v0, eps):\n",
    "    m, v_seq = np.shape(A)[0], [v0]\n",
    "    t, mu = 1, 10\n",
    "    while m / t >= eps:\n",
    "        v_seq.append(centeringstep(Q, p, A, b, t, v_seq[-1], eps)[-1]) # minimize t * f_0 + phi and update v_seq (x_star)\n",
    "        t *= mu\n",
    "        #print( m / t)\n",
    "    return v_seq"
   ]
  },
  {
   "cell_type": "code",
   "execution_count": 77,
   "metadata": {},
   "outputs": [],
   "source": [
    "v_seq = centeringstep(Q, p, A, b, 10000, v_seq[-1], 1e-15)"
   ]
  },
  {
   "cell_type": "code",
   "execution_count": 78,
   "metadata": {},
   "outputs": [
    {
     "data": {
      "text/plain": [
       "array([[9.67286864],\n",
       "       [9.95169845],\n",
       "       [9.99999995]])"
      ]
     },
     "execution_count": 78,
     "metadata": {},
     "output_type": "execute_result"
    }
   ],
   "source": [
    "v_seq[-1]"
   ]
  },
  {
   "cell_type": "code",
   "execution_count": 70,
   "metadata": {},
   "outputs": [
    {
     "data": {
      "text/plain": [
       "[array([[5.],\n",
       "        [5.],\n",
       "        [5.]]), array([[9.67343105],\n",
       "        [9.90537266],\n",
       "        [9.92331289]])]"
      ]
     },
     "execution_count": 70,
     "metadata": {},
     "output_type": "execute_result"
    }
   ],
   "source": [
    "v_seq"
   ]
  },
  {
   "cell_type": "code",
   "execution_count": 85,
   "metadata": {},
   "outputs": [
    {
     "name": "stdout",
     "output_type": "stream",
     "text": [
      "[[5.]\n",
      " [5.]\n",
      " [5.]] [[-2.47412109]\n",
      " [-2.12451172]\n",
      " [-1.94042969]] [[2.52587891]\n",
      " [2.87548828]\n",
      " [3.05957031]]\n",
      "9.242298322399366e-13\n",
      "[[5.]\n",
      " [5.]\n",
      " [5.]] [[5.90820312]\n",
      " [6.41601562]\n",
      " [6.5625    ]] [[10.90820312]\n",
      " [11.41601562]\n",
      " [11.5625    ]]\n",
      "0.7290000000000001\n",
      "[[9.30708008]\n",
      " [9.67727539]\n",
      " [9.7840625 ]] [[-0.1673584 ]\n",
      " [ 0.03283691]\n",
      " [ 0.14093018]] [[9.13972168]\n",
      " [9.7101123 ]\n",
      " [9.92499268]]\n",
      "1\n",
      "[[9.13972168]\n",
      " [9.7101123 ]\n",
      " [9.92499268]] [[0.36259032]\n",
      " [0.43616151]\n",
      " [0.47789767]] [[ 9.502312  ]\n",
      " [10.14627382]\n",
      " [10.40289034]]\n",
      "0.1500946352969992\n",
      "[[9.19414454]\n",
      " [9.77557781]\n",
      " [9.99672255]] [[-0.11383283]\n",
      " [-0.04109076]\n",
      " [ 0.00829093]] [[ 9.08031171]\n",
      " [ 9.73448705]\n",
      " [10.00501348]]\n",
      "0.38742048900000015\n",
      "[[9.15004337]\n",
      " [9.75965841]\n",
      " [9.99993463]] [[-1.10861168e-01]\n",
      " [-4.49129937e-02]\n",
      " [-1.07569185e-05]] [[9.0391822 ]\n",
      " [9.71474541]\n",
      " [9.99992387]]\n",
      "1\n",
      "[[9.0391822 ]\n",
      " [9.71474541]\n",
      " [9.99992387]] [[0.04693097]\n",
      " [0.01938492]\n",
      " [0.00061795]] [[ 9.08611317]\n",
      " [ 9.73413033]\n",
      " [10.00054182]]\n",
      "0.10941898913151243\n",
      "[[9.04431734]\n",
      " [9.71686649]\n",
      " [9.99999149]] [[1.32163938e-02]\n",
      " [5.39946330e-03]\n",
      " [7.55761463e-05]] [[ 9.05753374]\n",
      " [ 9.72226595]\n",
      " [10.00006706]]\n",
      "0.0984770902183612\n",
      "[[9.04561885]\n",
      " [9.71739821]\n",
      " [9.99999893]] [[4.09679755e-02]\n",
      " [1.66027902e-02]\n",
      " [1.22672511e-05]] [[ 9.08658683]\n",
      " [ 9.734001  ]\n",
      " [10.0000112 ]]\n",
      "0.07976644307687257\n",
      "[[9.04888672]\n",
      " [9.71872256]\n",
      " [9.99999991]] [[3.08462428e-02]\n",
      " [1.24957701e-02]\n",
      " [8.77223035e-07]] [[ 9.07973297]\n",
      " [ 9.73121833]\n",
      " [10.00000079]]\n",
      "0.0984770902183612\n",
      "[[9.05192437]\n",
      " [9.71995311]\n",
      " [9.99999999]] [[1.53345324e-02]\n",
      " [6.21175456e-03]\n",
      " [3.39665387e-08]] [[ 9.06725891]\n",
      " [ 9.72616486]\n",
      " [10.00000003]]\n",
      "0.16677181699666577\n",
      "[[ 9.05448174]\n",
      " [ 9.72098905]\n",
      " [10.        ]] [[ 2.21016192e-02]\n",
      " [ 8.95295478e-03]\n",
      " [-1.99226591e-11]] [[ 9.07658336]\n",
      " [ 9.72994201]\n",
      " [10.        ]]\n",
      "1\n",
      "[[ 9.07658336]\n",
      " [ 9.72994201]\n",
      " [10.        ]] [[-3.94497893e-02]\n",
      " [-1.59803747e-02]\n",
      " [ 5.70114995e-10]] [[ 9.03713357]\n",
      " [ 9.71396163]\n",
      " [10.        ]]\n",
      "0.12157665459056936\n",
      "[[ 9.07178719]\n",
      " [ 9.72799917]\n",
      " [10.        ]] [[-2.10769970e-02]\n",
      " [-8.53789900e-03]\n",
      " [ 1.51158677e-12]] [[ 9.05071019]\n",
      " [ 9.71946127]\n",
      " [10.        ]]\n",
      "1\n",
      "[[ 9.05071019]\n",
      " [ 9.71946127]\n",
      " [10.        ]] [[ 7.03668310e-02]\n",
      " [ 2.85042930e-02]\n",
      " [-1.80884533e-14]] [[ 9.12107702]\n",
      " [ 9.74796556]\n",
      " [10.        ]]\n",
      "1\n",
      "[[ 9.12107702]\n",
      " [ 9.74796556]\n",
      " [10.        ]] [[-5.53370934e-02]\n",
      " [-2.24160261e-02]\n",
      " [ 7.56947525e-13]] [[ 9.06573993]\n",
      " [ 9.72554953]\n",
      " [10.        ]]\n",
      "0.10941898913151243\n"
     ]
    },
    {
     "data": {
      "text/plain": [
       "array([[ 9.11502209],\n",
       "       [ 9.74551282],\n",
       "       [10.        ]])"
      ]
     },
     "execution_count": 85,
     "metadata": {},
     "output_type": "execute_result"
    }
   ],
   "source": [
    "v_seq = barrmethod(Q, p, A, b, v0, 1e-15)\n",
    "v_seq[-1]"
   ]
  },
  {
   "cell_type": "code",
   "execution_count": 81,
   "metadata": {},
   "outputs": [
    {
     "name": "stdout",
     "output_type": "stream",
     "text": [
      "[0.         0.01873852 0.        ]\n"
     ]
    }
   ],
   "source": [
    "from sklearn import linear_model\n",
    "\n",
    "clf = linear_model.Lasso(alpha=lamb, fit_intercept=False)\n",
    "clf.fit(X, y)\n",
    "\n",
    "print(clf.coef_)"
   ]
  },
  {
   "cell_type": "code",
   "execution_count": null,
   "metadata": {},
   "outputs": [],
   "source": []
  },
  {
   "cell_type": "code",
   "execution_count": null,
   "metadata": {},
   "outputs": [],
   "source": []
  },
  {
   "cell_type": "code",
   "execution_count": null,
   "metadata": {},
   "outputs": [],
   "source": []
  },
  {
   "cell_type": "code",
   "execution_count": null,
   "metadata": {},
   "outputs": [],
   "source": []
  },
  {
   "cell_type": "code",
   "execution_count": null,
   "metadata": {},
   "outputs": [],
   "source": []
  },
  {
   "cell_type": "code",
   "execution_count": 115,
   "metadata": {},
   "outputs": [],
   "source": [
    "def phi(A, b, x):\n",
    "    if (b - A.dot(x) > 0).all():\n",
    "        return - np.log(b - A.dot(x)).sum() # phi(x) = - sum log(-f_i(x))\n",
    "    else:\n",
    "        return np.inf\n",
    "#         print(x)\n",
    "#         raise Exception('problem in log') \n",
    "\n",
    "def grad_phi(A, b, x):\n",
    "    res = np.zeros_like(A[0, :])\n",
    "    for i in range(np.shape(A)[0]):\n",
    "          res += - (1 / (A[i, :].dot(x) - b[i])) * A[i, :].T\n",
    "    return np.reshape(res, (np.shape(A)[1], 1))\n",
    "\n",
    "def hess_phi(A, b, x):\n",
    "    res = np.zeros((np.shape(A)[1], np.shape(A)[1]))\n",
    "    for i in range(np.shape(A)[0]):\n",
    "          res +=  ((1 / (A[i, :].dot(x) - b[i])) ** 2) * np.outer(A[i, :], A[i, :])\n",
    "    return res\n",
    "\n",
    "def f(Q, p, A, b, x):\n",
    "    return x.T.dot(Q.dot(x)) + p.T.dot(x) + phi(A, b, x)\n",
    "    \n",
    "def grad(Q, p, A, b, x):\n",
    "    return (Q.T + Q).dot(x) + p + grad_phi(A, b, x)\n",
    "    \n",
    "def hess(Q, p, A, b, x):\n",
    "    return Q.T + Q + hess_phi(A, b, x)\n",
    "\n",
    "def backtracking_line_search(Q, p, A, b, x, delta_x):\n",
    "    alpha, beta, step, k = 0.1, 0.99, 1, 0\n",
    "    while f(Q, p, A, b, x + step * delta_x) >= f(Q, p, A, b, x) + alpha * step * grad(Q, p, A, b, x).T.dot(delta_x) and k < 1e10:\n",
    "        step *= beta\n",
    "        k += 1\n",
    "    return step # if k < 1e10 else 1\n",
    "    \n",
    "# def newton(Q, p, A, b, x):\n",
    "#     k, max_iter = 0, 10000\n",
    "#     while np.linalg.norm(grad(Q, p, A, b, x), ord=2) > 1e-6 and k < max_iter:\n",
    "#         #print(np.linalg.norm(grad(Q, p, A, b, x), ord=2))\n",
    "#         delta_x = - np.linalg.inv(hess(Q, p, A, b, x)).dot(grad(Q, p, A, b, x))\n",
    "#         step_size = 1 #backtracking_line_search(Q, p, A, b, x, delta_x)\n",
    "#         x += step_size * delta_x\n",
    "#         k += 1\n",
    "#     return x\n",
    "\n",
    "# def barrier(Q, p, A, b, t, v0, eps):\n",
    "#     m = np.shape(A)[0]\n",
    "#     v = [v0]\n",
    "#     mu = 20 \n",
    "#     k, max_iter = 0, 1e10\n",
    "#     while k < max_iter:\n",
    "#         v.append(newton(t * Q, t * p, A, b, v[-1])) # minimize t * f_0 + phi and update v\n",
    "#         if m / t < eps: # stopping criterion \n",
    "#             return v\n",
    "#         t *= mu # increase t\n",
    "#         k += 1 # increase k\n",
    "#         print(k)"
   ]
  },
  {
   "cell_type": "code",
   "execution_count": 111,
   "metadata": {},
   "outputs": [
    {
     "ename": "NameError",
     "evalue": "name 'barrier' is not defined",
     "output_type": "error",
     "traceback": [
      "\u001b[1;31m---------------------------------------------------------------------------\u001b[0m",
      "\u001b[1;31mNameError\u001b[0m                                 Traceback (most recent call last)",
      "\u001b[1;32m<ipython-input-111-6fcd1820b405>\u001b[0m in \u001b[0;36m<module>\u001b[1;34m\u001b[0m\n\u001b[1;32m----> 1\u001b[1;33m \u001b[0mv\u001b[0m \u001b[1;33m=\u001b[0m \u001b[0mbarrier\u001b[0m\u001b[1;33m(\u001b[0m\u001b[0mQ\u001b[0m\u001b[1;33m,\u001b[0m \u001b[0mp\u001b[0m\u001b[1;33m,\u001b[0m \u001b[0mA\u001b[0m\u001b[1;33m,\u001b[0m \u001b[0mb\u001b[0m\u001b[1;33m,\u001b[0m \u001b[1;36m1\u001b[0m\u001b[1;33m,\u001b[0m \u001b[0mv0\u001b[0m\u001b[1;33m,\u001b[0m \u001b[1;36m1e-5\u001b[0m\u001b[1;33m)\u001b[0m\u001b[1;33m\u001b[0m\u001b[1;33m\u001b[0m\u001b[0m\n\u001b[0m",
      "\u001b[1;31mNameError\u001b[0m: name 'barrier' is not defined"
     ]
    }
   ],
   "source": [
    "v = barrier(Q, p, A, b, 1, v0, 1e-5)"
   ]
  },
  {
   "cell_type": "code",
   "execution_count": null,
   "metadata": {},
   "outputs": [],
   "source": [
    "v[-1]"
   ]
  },
  {
   "cell_type": "code",
   "execution_count": null,
   "metadata": {},
   "outputs": [],
   "source": [
    "from sklearn import linear_model\n",
    "\n",
    "clf = linear_model.Lasso(alpha=lamb, fit_intercept=False)\n",
    "clf.fit(X, y)\n",
    "\n",
    "print(clf.coef_)"
   ]
  }
 ],
 "metadata": {
  "kernelspec": {
   "display_name": "Python 3",
   "language": "python",
   "name": "python3"
  },
  "language_info": {
   "codemirror_mode": {
    "name": "ipython",
    "version": 3
   },
   "file_extension": ".py",
   "mimetype": "text/x-python",
   "name": "python",
   "nbconvert_exporter": "python",
   "pygments_lexer": "ipython3",
   "version": "3.7.1"
  }
 },
 "nbformat": 4,
 "nbformat_minor": 2
}
