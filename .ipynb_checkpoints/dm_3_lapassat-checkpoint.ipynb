{
 "cells": [
  {
   "cell_type": "code",
   "execution_count": 14,
   "metadata": {},
   "outputs": [],
   "source": [
    "from IPython.display import display, Math\n",
    "import numpy as np\n",
    "import matplotlib.pyplot as plt"
   ]
  },
  {
   "cell_type": "code",
   "execution_count": 2,
   "metadata": {},
   "outputs": [],
   "source": [
    "np.random.seed(335)\n",
    "def is_pos_def(x):\n",
    "    return np.all(np.linalg.eigvals(x) >= 0)\n",
    "\n",
    "# set dimension\n",
    "n = 100\n",
    "d = 25\n",
    "\n",
    "# set lambda\n",
    "lamb = 10\n",
    "\n",
    "start = True\n",
    "while start:\n",
    "    # generate random X\n",
    "    X = np.random.rand(n, d)\n",
    "    #X[:, 1] = 5 * X[:, 1] + 25\n",
    "    \n",
    "    # compute Q\n",
    "    Q = 0.5 * np.linalg.inv(X.T.dot(X))\n",
    "\n",
    "    # test if Q is >= 0\n",
    "    start = ~is_pos_def(Q)\n",
    "    \n",
    "# generate random y\n",
    "y = np.random.rand(n, 1) # np.random.binomial(1, 0.5, (n, 1))\n",
    "\n",
    "# compute p, A and b\n",
    "p = - np.linalg.inv(X.T.dot(X)).dot(X.T.dot(y))\n",
    "A = np.concatenate([np.eye(d), -np.eye(d)], axis=0)\n",
    "b = lamb * np.ones((2 * d, 1))\n",
    "\n",
    "# possible starting point\n",
    "v0 = (lamb / 2) * np.ones((d, 1))\n",
    "\n",
    "# set variable\n",
    "eps = 1e-3"
   ]
  },
  {
   "cell_type": "code",
   "execution_count": 3,
   "metadata": {},
   "outputs": [],
   "source": [
    "def test(x):\n",
    "    return x.T.dot(Q.dot(x)) + p.T.dot(x)\n",
    "\n",
    "def f(Q, p, A, b, x): # ok\n",
    "    phi = 0\n",
    "    for i in range(np.shape(A)[0]):\n",
    "        if float(b[i, 0] - A[i, :].dot(x)) > 0:\n",
    "            phi -= np.log(float(b[i, 0] - A[i, :].dot(x)))\n",
    "        else:\n",
    "            return np.inf\n",
    "    return float(x.T.dot(Q.dot(x))) + float(p.T.dot(x)) + phi\n",
    "\n",
    "def grad_f(Q, p, A, b, x): # ok\n",
    "    phi = np.zeros_like(A[0, :])\n",
    "    for i in range(np.shape(A)[0]):\n",
    "        phi += A[i, :].T / float(b[i, 0] - A[i, :].dot(x))\n",
    "    return (Q.T + Q).dot(x) + p + phi.reshape(len(phi), 1)\n",
    "        \n",
    "def hess_f(Q, A, b, x): # ok\n",
    "    phi = np.zeros_like(np.outer(A[0, :], A[0, :]))\n",
    "    for i in range(np.shape(A)[0]):\n",
    "        phi +=  (1 / float(A[i, :].dot(x) - b[i, 0]) ** 2) * np.outer(A[i, :], A[i, :])\n",
    "    return Q + Q.T + phi"
   ]
  },
  {
   "cell_type": "code",
   "execution_count": 4,
   "metadata": {},
   "outputs": [],
   "source": [
    "def backtracking_line_search(Q, p, A, b, x, delta, grad_f):\n",
    "    alpha, beta, t = 0.1, 0.75, 10\n",
    "    f_eval = f(Q, p, A, b, x)\n",
    "    cst = float(grad_f.T.dot(delta))\n",
    "    len_delta = np.linalg.norm(delta)\n",
    "    while f(Q, p, A, b, x + t * delta) >= (f_eval + alpha * t * cst):\n",
    "        t *= beta\n",
    "        if t * len_delta < 1e-4: # too small\n",
    "            return t\n",
    "    return t\n",
    "\n",
    "def centeringstep(Q, p, A, b, t, v0, eps):\n",
    "    v_seq = [v0]\n",
    "    decrement = 1e5\n",
    "    hist = []\n",
    "    while (decrement / 2) > eps:\n",
    "        grad = grad_f(t * Q, t * p, A, b, v_seq[-1])\n",
    "        delta = - np.linalg.inv(hess_f(t * Q, A, b, v_seq[-1])).dot(grad) # newton step \n",
    "        decrement = grad.T.dot(- delta) # decrement\n",
    "        gamma = backtracking_line_search(t * Q, t * p, A, b, v_seq[-1], delta, grad) # backtrackling line search\n",
    "        v_seq.append(v_seq[-1] + gamma * delta)\n",
    "        hist.append(decrement / 2)\n",
    "    return v_seq, hist\n",
    "    \n",
    "def barrmethod(Q, p, A, b, v0, eps, mu):\n",
    "    m, v_seq, newt_steps, precision = np.shape(A)[0], [v0], [], []\n",
    "    t = 1\n",
    "    while m / t >= eps:\n",
    "        hist_x, hist_decr = centeringstep(Q, p, A, b, t, v_seq[-1], eps) # minimize t * f_0 + phi\n",
    "        v_seq.append(hist_x[-1]) # update v_seq (x_star)\n",
    "        newt_steps.append(len(hist_decr))  # update newton steps\n",
    "        precision.append(m / t) # update newton steps\n",
    "        t *= mu\n",
    "        #print( m / t)\n",
    "    return v_seq, newt_steps, precision"
   ]
  },
  {
   "cell_type": "code",
   "execution_count": 25,
   "metadata": {},
   "outputs": [
    {
     "data": {
      "text/latex": [
       "$\\displaystyle With ~~ \\mu=2 ~~the~~optimal~~solution~~for~~v^{*^T}Qv^* + p^Tv^*~~is: -7.3634$"
      ],
      "text/plain": [
       "<IPython.core.display.Math object>"
      ]
     },
     "metadata": {},
     "output_type": "display_data"
    },
    {
     "data": {
      "text/latex": [
       "$\\displaystyle With ~~ \\mu=15 ~~the~~optimal~~solution~~for~~v^{*^T}Qv^* + p^Tv^*~~is: -7.3618$"
      ],
      "text/plain": [
       "<IPython.core.display.Math object>"
      ]
     },
     "metadata": {},
     "output_type": "display_data"
    },
    {
     "data": {
      "text/latex": [
       "$\\displaystyle With ~~ \\mu=50 ~~the~~optimal~~solution~~for~~v^{*^T}Qv^* + p^Tv^*~~is: -7.3611$"
      ],
      "text/plain": [
       "<IPython.core.display.Math object>"
      ]
     },
     "metadata": {},
     "output_type": "display_data"
    },
    {
     "data": {
      "text/latex": [
       "$\\displaystyle With ~~ \\mu=100 ~~the~~optimal~~solution~~for~~v^{*^T}Qv^* + p^Tv^*~~is: -7.3630$"
      ],
      "text/plain": [
       "<IPython.core.display.Math object>"
      ]
     },
     "metadata": {},
     "output_type": "display_data"
    },
    {
     "data": {
      "text/latex": [
       "$\\displaystyle With ~~ \\mu=200 ~~the~~optimal~~solution~~for~~v^{*^T}Qv^* + p^Tv^*~~is: -7.3634$"
      ],
      "text/plain": [
       "<IPython.core.display.Math object>"
      ]
     },
     "metadata": {},
     "output_type": "display_data"
    }
   ],
   "source": [
    "v_hist, newton_steps, precision_criterion = {}, {}, {}\n",
    "mus = [2, 15, 50, 100, 200]\n",
    "for mu in mus:\n",
    "    # compute with barrier\n",
    "    v_seq, newt_steps, precision = barrmethod(Q, p, A, b, v0, eps, mu)\n",
    "    \n",
    "    # save data\n",
    "    v_hist[mu] = v_seq \n",
    "    newton_steps[mu] = np.cumsum(newt_steps)\n",
    "    precision_criterion[mu] = precision\n",
    "    \n",
    "    # get some updates\n",
    "    display(Math(r'With ~~ \\mu=%d ~~the~~optimal~~solution~~for~~v^{*^T}Qv^* + p^Tv^*~~is: %.4f'%(mu, test(v_seq[-1]))))"
   ]
  },
  {
   "cell_type": "code",
   "execution_count": 26,
   "metadata": {
    "scrolled": false
   },
   "outputs": [
    {
     "data": {
      "image/png": "[encoded data removed]",
      "text/plain": [
       "<Figure size 576x360 with 1 Axes>"
      ]
     },
     "metadata": {
      "needs_background": "light"
     },
     "output_type": "display_data"
    },
    {
     "data": {
      "image/png": "[encoded data removed]",
      "text/plain": [
       "<Figure size 576x360 with 1 Axes>"
      ]
     },
     "metadata": {
      "needs_background": "light"
     },
     "output_type": "display_data"
    }
   ],
   "source": [
    "# precision criterion\n",
    "plt.figure(figsize=(8, 5))\n",
    "for mu in mus:\n",
    "    plt.step(newton_steps[mu], precision_criterion[mu], where='post', label='mu=' + str(mu))\n",
    "plt.yscale('log')\n",
    "plt.title('precision criterion evolution')\n",
    "plt.xlabel(\"Newton iterations\")\n",
    "plt.ylabel(\"precision criterion (m/t)\")   \n",
    "plt.legend()\n",
    "plt.show()\n",
    "\n",
    "# duality gap evolution\n",
    "plt.figure(figsize=(8, 5))\n",
    "for mu in mus:\n",
    "    f_star = min([test(x) for x in v_hist[mu][1:]])\n",
    "    plt.step(newton_steps[mu], [float(test(x) - f_star) for x in v_hist[mu][1:]],\n",
    "             label='mu=' + str(mu))\n",
    "plt.yscale('log')\n",
    "plt.title('duality gap evolution')\n",
    "plt.xlabel(\"Newton iterations\")\n",
    "plt.ylabel(\"duality gap\")  \n",
    "plt.legend()\n",
    "plt.show()"
   ]
  }
 ],
 "metadata": {
  "kernelspec": {
   "display_name": "Python 3",
   "language": "python",
   "name": "python3"
  },
  "language_info": {
   "codemirror_mode": {
    "name": "ipython",
    "version": 3
   },
   "file_extension": ".py",
   "mimetype": "text/x-python",
   "name": "python",
   "nbconvert_exporter": "python",
   "pygments_lexer": "ipython3",
   "version": "3.7.1"
  },
  "widgets": {
   "application/vnd.jupyter.widget-state+json": {
    "state": {},
    "version_major": 2,
    "version_minor": 0
   }
  }
 },
 "nbformat": 4,
 "nbformat_minor": 2
}
